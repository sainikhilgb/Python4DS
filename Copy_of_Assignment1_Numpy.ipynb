{
  "nbformat": 4,
  "nbformat_minor": 0,
  "metadata": {
    "kernelspec": {
      "display_name": "Python 3",
      "language": "python",
      "name": "python3"
    },
    "language_info": {
      "codemirror_mode": {
        "name": "ipython",
        "version": 3
      },
      "file_extension": ".py",
      "mimetype": "text/x-python",
      "name": "python",
      "nbconvert_exporter": "python",
      "pygments_lexer": "ipython3",
      "version": "3.7.1"
    },
    "colab": {
      "name": "Copy of Assignment1 Numpy.ipynb",
      "provenance": [],
      "collapsed_sections": [],
      "include_colab_link": true
    }
  },
  "cells": [
    {
      "cell_type": "markdown",
      "metadata": {
        "id": "view-in-github",
        "colab_type": "text"
      },
      "source": [
        "<a href=\"https://colab.research.google.com/github/sainikhilgb/Python4DS/blob/master/Copy_of_Assignment1_Numpy.ipynb\" target=\"_parent\"><img src=\"https://colab.research.google.com/assets/colab-badge.svg\" alt=\"Open In Colab\"/></a>"
      ]
    },
    {
      "cell_type": "markdown",
      "metadata": {
        "id": "vU4QeVLc8XB0",
        "colab_type": "text"
      },
      "source": [
        "# Assignment"
      ]
    },
    {
      "cell_type": "markdown",
      "metadata": {
        "id": "xCJTqXW38XB2",
        "colab_type": "text"
      },
      "source": [
        "Import numpy as np"
      ]
    },
    {
      "cell_type": "code",
      "metadata": {
        "id": "43oydlQ38XB4",
        "colab_type": "code",
        "colab": {}
      },
      "source": [
        "import numpy as np\n"
      ],
      "execution_count": null,
      "outputs": []
    },
    {
      "cell_type": "markdown",
      "metadata": {
        "id": "uPon4ahy8XCA",
        "colab_type": "text"
      },
      "source": [
        "Make a python list => \\[1,2,3,4,5\\]\n",
        "\n",
        "Convert it into numpy array and print it"
      ]
    },
    {
      "cell_type": "code",
      "metadata": {
        "id": "23Go4c9B8XCD",
        "colab_type": "code",
        "colab": {
          "base_uri": "https://localhost:8080/",
          "height": 34
        },
        "outputId": "ccc9c418-087f-4c65-cb69-f8fb2cc76276"
      },
      "source": [
        "list = [1,2,3,4,5]\n",
        "print(np.array(list))"
      ],
      "execution_count": null,
      "outputs": [
        {
          "output_type": "stream",
          "text": [
            "[1 2 3 4 5]\n"
          ],
          "name": "stdout"
        }
      ]
    },
    {
      "cell_type": "markdown",
      "metadata": {
        "id": "7MAaTRYW8XCK",
        "colab_type": "text"
      },
      "source": [
        "Make a python matrix (3 x 3) => \\[[1,2,3],[4,5,6],[7,8,9]\\]\n",
        "\n",
        "Convert it into numpy array and print it"
      ]
    },
    {
      "cell_type": "code",
      "metadata": {
        "id": "hFLiEzD48XCM",
        "colab_type": "code",
        "colab": {
          "base_uri": "https://localhost:8080/",
          "height": 34
        },
        "outputId": "3e5e5447-4791-48a4-b785-592cdc8a5219"
      },
      "source": [
        "\n",
        "arr= np.arange(1,10).reshape(3,3)\n",
        "arr1=arr.flatten()\n",
        "arr1\n",
        "\n"
      ],
      "execution_count": null,
      "outputs": [
        {
          "output_type": "execute_result",
          "data": {
            "text/plain": [
              "array([1, 2, 3, 4, 5, 6, 7, 8, 9])"
            ]
          },
          "metadata": {
            "tags": []
          },
          "execution_count": 103
        }
      ]
    },
    {
      "cell_type": "markdown",
      "metadata": {
        "id": "XXj_I75r8XCa",
        "colab_type": "text"
      },
      "source": [
        "Make a matrix (3 x 3) using built-in methods (like arange(), reshape() etc.):\n",
        "\n",
        "\\[ [1,3,5],\n",
        "\n",
        " [7,9,11],\n",
        " \n",
        " [13,15,17] \\]"
      ]
    },
    {
      "cell_type": "code",
      "metadata": {
        "id": "K6ur-kOz8XCc",
        "colab_type": "code",
        "colab": {
          "base_uri": "https://localhost:8080/",
          "height": 70
        },
        "outputId": "3ab135e9-3226-4e9b-8b9e-37b52214ba05"
      },
      "source": [
        "a= np.arange(1,18,2).reshape(3,3)\n",
        "a"
      ],
      "execution_count": null,
      "outputs": [
        {
          "output_type": "execute_result",
          "data": {
            "text/plain": [
              "array([[ 1,  3,  5],\n",
              "       [ 7,  9, 11],\n",
              "       [13, 15, 17]])"
            ]
          },
          "metadata": {
            "tags": []
          },
          "execution_count": 38
        }
      ]
    },
    {
      "cell_type": "markdown",
      "metadata": {
        "id": "2-duumAt8XCn",
        "colab_type": "text"
      },
      "source": [
        "\n",
        "Create a numpy array with 10 random numbers from 0 to 10 (there should be few numbers greater than 1)"
      ]
    },
    {
      "cell_type": "code",
      "metadata": {
        "id": "1hwRSULQ8XCv",
        "colab_type": "code",
        "colab": {
          "base_uri": "https://localhost:8080/",
          "height": 52
        },
        "outputId": "8c668690-8508-4b7b-aee7-9ce140f3fd64"
      },
      "source": [
        "import random\n",
        "arry= np.random.rand(10)\n",
        "arry"
      ],
      "execution_count": null,
      "outputs": [
        {
          "output_type": "execute_result",
          "data": {
            "text/plain": [
              "array([0.19056251, 0.04066625, 0.33393275, 0.59193954, 0.27405129,\n",
              "       0.61167881, 0.77679805, 0.19150018, 0.50567281, 0.99480014])"
            ]
          },
          "metadata": {
            "tags": []
          },
          "execution_count": 62
        }
      ]
    },
    {
      "cell_type": "markdown",
      "metadata": {
        "id": "A8FWsXmn8XC6",
        "colab_type": "text"
      },
      "source": [
        "Create numpy array => \\[1,2,3,4,5\\] and convert it to 2D array with 5 rows"
      ]
    },
    {
      "cell_type": "code",
      "metadata": {
        "id": "zNySz2pZ8XC8",
        "colab_type": "code",
        "colab": {
          "base_uri": "https://localhost:8080/",
          "height": 105
        },
        "outputId": "27d20849-e880-410a-994b-65073e903f4a"
      },
      "source": [
        "array = [1,2,3,4,5]\n",
        "arr=np.reshape(array,(5,1))\n",
        "arr\n"
      ],
      "execution_count": null,
      "outputs": [
        {
          "output_type": "execute_result",
          "data": {
            "text/plain": [
              "array([[1],\n",
              "       [2],\n",
              "       [3],\n",
              "       [4],\n",
              "       [5]])"
            ]
          },
          "metadata": {
            "tags": []
          },
          "execution_count": 95
        }
      ]
    },
    {
      "cell_type": "markdown",
      "metadata": {
        "id": "fiQmvSnb8XDH",
        "colab_type": "text"
      },
      "source": [
        "Print the shape of the above created array"
      ]
    },
    {
      "cell_type": "code",
      "metadata": {
        "id": "dvXTozmt8XDI",
        "colab_type": "code",
        "colab": {
          "base_uri": "https://localhost:8080/",
          "height": 34
        },
        "outputId": "58498319-00a1-402d-f9ea-0d0ff3d3c3b8"
      },
      "source": [
        "arr.shape"
      ],
      "execution_count": null,
      "outputs": [
        {
          "output_type": "execute_result",
          "data": {
            "text/plain": [
              "(3, 3)"
            ]
          },
          "metadata": {
            "tags": []
          },
          "execution_count": 104
        }
      ]
    },
    {
      "cell_type": "markdown",
      "metadata": {
        "id": "Cx77h4-O8XDN",
        "colab_type": "text"
      },
      "source": [
        "Create a numpy array with 10 elements in it. Access and print its 3rd, 4th and 9th element."
      ]
    },
    {
      "cell_type": "code",
      "metadata": {
        "id": "PVG6VPY08XDO",
        "colab_type": "code",
        "colab": {
          "base_uri": "https://localhost:8080/",
          "height": 34
        },
        "outputId": "b3bf481e-aa86-43f5-fa4d-bdbd1ad48310"
      },
      "source": [
        "a=np.arange(10)\n",
        "print(a[3],a[4],a[9])"
      ],
      "execution_count": null,
      "outputs": [
        {
          "output_type": "stream",
          "text": [
            "3 4 9\n"
          ],
          "name": "stdout"
        }
      ]
    },
    {
      "cell_type": "markdown",
      "metadata": {
        "id": "QBtfsVai8XDS",
        "colab_type": "text"
      },
      "source": [
        "Print alternate elements of that array"
      ]
    },
    {
      "cell_type": "code",
      "metadata": {
        "id": "eX0hlwFm8XDT",
        "colab_type": "code",
        "colab": {
          "base_uri": "https://localhost:8080/",
          "height": 34
        },
        "outputId": "9726a98c-cb98-4d17-e10c-ba247f78f0cd"
      },
      "source": [
        "arr2=np.arange(1,10,2)\n",
        "arr2"
      ],
      "execution_count": null,
      "outputs": [
        {
          "output_type": "execute_result",
          "data": {
            "text/plain": [
              "array([1, 3, 5, 7, 9])"
            ]
          },
          "metadata": {
            "tags": []
          },
          "execution_count": 110
        }
      ]
    },
    {
      "cell_type": "markdown",
      "metadata": {
        "id": "AZKHRBke8XDd",
        "colab_type": "text"
      },
      "source": [
        "Change last 3 elements into 100 using broadcasting and print"
      ]
    },
    {
      "cell_type": "code",
      "metadata": {
        "id": "bn09m61x8XDf",
        "colab_type": "code",
        "colab": {
          "base_uri": "https://localhost:8080/",
          "height": 167
        },
        "outputId": "608000ad-14ee-4fa0-fd4b-94afaba1dd36"
      },
      "source": [
        ""
      ],
      "execution_count": null,
      "outputs": [
        {
          "output_type": "error",
          "ename": "NameError",
          "evalue": "ignored",
          "traceback": [
            "\u001b[0;31m---------------------------------------------------------------------------\u001b[0m",
            "\u001b[0;31mNameError\u001b[0m                                 Traceback (most recent call last)",
            "\u001b[0;32m<ipython-input-118-a7fa528030d8>\u001b[0m in \u001b[0;36m<module>\u001b[0;34m()\u001b[0m\n\u001b[0;32m----> 1\u001b[0;31m \u001b[0mbroadcasting\u001b[0m\u001b[0;34m(\u001b[0m\u001b[0;34m)\u001b[0m\u001b[0;34m\u001b[0m\u001b[0;34m\u001b[0m\u001b[0m\n\u001b[0m",
            "\u001b[0;31mNameError\u001b[0m: name 'broadcasting' is not defined"
          ]
        }
      ]
    },
    {
      "cell_type": "markdown",
      "metadata": {
        "id": "vq2wFSc78XDu",
        "colab_type": "text"
      },
      "source": [
        "Create a 5 x 5 matrix (fill it with any element you like), print it.\n",
        "\n",
        "Then print the middle (3 x 3) matrix."
      ]
    },
    {
      "cell_type": "code",
      "metadata": {
        "id": "TkQ-gNyK8XDw",
        "colab_type": "code",
        "colab": {
          "base_uri": "https://localhost:8080/",
          "height": 105
        },
        "outputId": "726ef971-d9a3-439a-8c78-d08bc38dad2f"
      },
      "source": [
        "a=np.arange(25).reshape(5,5)\n",
        "a"
      ],
      "execution_count": null,
      "outputs": [
        {
          "output_type": "execute_result",
          "data": {
            "text/plain": [
              "array([[ 0,  1,  2,  3,  4],\n",
              "       [ 5,  6,  7,  8,  9],\n",
              "       [10, 11, 12, 13, 14],\n",
              "       [15, 16, 17, 18, 19],\n",
              "       [20, 21, 22, 23, 24]])"
            ]
          },
          "metadata": {
            "tags": []
          },
          "execution_count": 116
        }
      ]
    }
  ]
}